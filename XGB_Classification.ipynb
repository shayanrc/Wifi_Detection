{
 "cells": [
  {
   "cell_type": "code",
   "execution_count": 31,
   "id": "c3c55ce4-f0c9-4d9a-9384-b0d17afef254",
   "metadata": {},
   "outputs": [],
   "source": [
    "import pandas as pd\n",
    "\n",
    "import matplotlib.pyplot as plt\n",
    "\n",
    "import numpy as np\n",
    "\n",
    "\n",
    "import xgboost as xgb\n",
    "\n",
    "from hyperopt import STATUS_OK, Trials, fmin, hp, tpe, atpe\n",
    "\n",
    "from sklearn.metrics import roc_auc_score\n",
    "\n",
    "import gc\n",
    "\n",
    "from sklearn.model_selection import GroupShuffleSplit, train_test_split, LeavePGroupsOut\n",
    "\n",
    "from sklearn.metrics import precision_recall_curve, roc_curve\n"
   ]
  },
  {
   "cell_type": "code",
   "execution_count": 2,
   "id": "62c54220-2df0-44f2-b90c-9d59147948b2",
   "metadata": {},
   "outputs": [],
   "source": [
    "df = pd.read_csv('data/mafat_wifi_challenge_training_set_v1.csv')"
   ]
  },
  {
   "cell_type": "code",
   "execution_count": 3,
   "id": "332a3fa5-9fe0-4c8e-ab39-cbb1f5050746",
   "metadata": {},
   "outputs": [
    {
     "data": {
      "text/html": [
       "<div>\n",
       "<style scoped>\n",
       "    .dataframe tbody tr th:only-of-type {\n",
       "        vertical-align: middle;\n",
       "    }\n",
       "\n",
       "    .dataframe tbody tr th {\n",
       "        vertical-align: top;\n",
       "    }\n",
       "\n",
       "    .dataframe thead th {\n",
       "        text-align: right;\n",
       "    }\n",
       "</style>\n",
       "<table border=\"1\" class=\"dataframe\">\n",
       "  <thead>\n",
       "    <tr style=\"text-align: right;\">\n",
       "      <th></th>\n",
       "      <th>Time</th>\n",
       "      <th>Room_Num</th>\n",
       "      <th>Device_ID</th>\n",
       "      <th>RSSI_Left</th>\n",
       "      <th>RSSI_Right</th>\n",
       "      <th>Num_People</th>\n",
       "    </tr>\n",
       "  </thead>\n",
       "  <tbody>\n",
       "    <tr>\n",
       "      <th>0</th>\n",
       "      <td>0.0</td>\n",
       "      <td>3</td>\n",
       "      <td>92178</td>\n",
       "      <td>-42</td>\n",
       "      <td>-51</td>\n",
       "      <td>2.0</td>\n",
       "    </tr>\n",
       "    <tr>\n",
       "      <th>1</th>\n",
       "      <td>0.5</td>\n",
       "      <td>3</td>\n",
       "      <td>92178</td>\n",
       "      <td>-42</td>\n",
       "      <td>-51</td>\n",
       "      <td>2.0</td>\n",
       "    </tr>\n",
       "    <tr>\n",
       "      <th>2</th>\n",
       "      <td>1.0</td>\n",
       "      <td>3</td>\n",
       "      <td>92178</td>\n",
       "      <td>-42</td>\n",
       "      <td>-51</td>\n",
       "      <td>2.0</td>\n",
       "    </tr>\n",
       "    <tr>\n",
       "      <th>3</th>\n",
       "      <td>1.5</td>\n",
       "      <td>3</td>\n",
       "      <td>92178</td>\n",
       "      <td>-42</td>\n",
       "      <td>-51</td>\n",
       "      <td>2.0</td>\n",
       "    </tr>\n",
       "    <tr>\n",
       "      <th>4</th>\n",
       "      <td>2.0</td>\n",
       "      <td>3</td>\n",
       "      <td>92178</td>\n",
       "      <td>-42</td>\n",
       "      <td>-51</td>\n",
       "      <td>2.0</td>\n",
       "    </tr>\n",
       "  </tbody>\n",
       "</table>\n",
       "</div>"
      ],
      "text/plain": [
       "   Time  Room_Num  Device_ID  RSSI_Left  RSSI_Right  Num_People\n",
       "0   0.0         3      92178        -42         -51         2.0\n",
       "1   0.5         3      92178        -42         -51         2.0\n",
       "2   1.0         3      92178        -42         -51         2.0\n",
       "3   1.5         3      92178        -42         -51         2.0\n",
       "4   2.0         3      92178        -42         -51         2.0"
      ]
     },
     "execution_count": 3,
     "metadata": {},
     "output_type": "execute_result"
    }
   ],
   "source": [
    "df.head()"
   ]
  },
  {
   "cell_type": "code",
   "execution_count": 4,
   "id": "fed03639-5bfa-40ed-9f2c-6c52de9f12b9",
   "metadata": {},
   "outputs": [
    {
     "data": {
      "text/plain": [
       "'Data recorded from 84 devices'"
      ]
     },
     "execution_count": 4,
     "metadata": {},
     "output_type": "execute_result"
    }
   ],
   "source": [
    "(\"Data recorded from %d devices\"%df['Device_ID'].nunique())"
   ]
  },
  {
   "cell_type": "code",
   "execution_count": 5,
   "id": "91fcc888-890d-43f9-bb76-495ba8901543",
   "metadata": {},
   "outputs": [
    {
     "name": "stdout",
     "output_type": "stream",
     "text": [
      "No. of People that can be in the room [2.0, 1.0, 0.0, 3.0]\n"
     ]
    }
   ],
   "source": [
    "print(\"No. of People that can be in the room\", df.Num_People.unique().tolist())"
   ]
  },
  {
   "cell_type": "code",
   "execution_count": 6,
   "id": "7b6be02e-7c4a-48b5-8565-393fff1b8f73",
   "metadata": {},
   "outputs": [
    {
     "data": {
      "image/png": "[encoded data removed]",
      "text/plain": [
       "<Figure size 432x288 with 1 Axes>"
      ]
     },
     "metadata": {
      "needs_background": "light"
     },
     "output_type": "display_data"
    }
   ],
   "source": [
    "plt.hist(df.Num_People);"
   ]
  },
  {
   "cell_type": "markdown",
   "id": "2ef2c4d1-72d2-413f-a979-ab1091c5fbad",
   "metadata": {},
   "source": [
    "We want to create some new features for each device and room like:\n",
    "- difference in signal strength of the 2 antennas\n",
    "- RMS of the signal strength\n",
    "- Change in each of original features as well as derived features per observation\n",
    "\n",
    "Then we want to do rolling z-norm to get the actual features the model will be trained on.\n",
    "\n",
    "We also want to divide it into chunks of 360 observations (3 minutes) because that's what the evaluation is going to be on\n"
   ]
  },
  {
   "cell_type": "code",
   "execution_count": 7,
   "id": "1a984a7c-d7b8-4bbb-b445-3253c50c24a9",
   "metadata": {},
   "outputs": [],
   "source": [
    "import tqdm"
   ]
  },
  {
   "cell_type": "code",
   "execution_count": 8,
   "id": "09a73a5b-c87c-4db0-849a-f7198d2c75a5",
   "metadata": {
    "tags": []
   },
   "outputs": [
    {
     "name": "stderr",
     "output_type": "stream",
     "text": [
      " 25%|███████████████████████████████████████████▌                                                                                                                                  | 21/84 [03:11<09:34,  9.13s/it]\n"
     ]
    },
    {
     "ename": "KeyboardInterrupt",
     "evalue": "",
     "output_type": "error",
     "traceback": [
      "\u001b[0;31m---------------------------------------------------------------------------\u001b[0m",
      "\u001b[0;31mAttributeError\u001b[0m                            Traceback (most recent call last)",
      "File \u001b[0;32m~/.local/lib/python3.8/site-packages/pandas/core/generic.py:5477\u001b[0m, in \u001b[0;36mNDFrame.__setattr__\u001b[0;34m(self, name, value)\u001b[0m\n\u001b[1;32m   5476\u001b[0m \u001b[38;5;28;01mtry\u001b[39;00m:\n\u001b[0;32m-> 5477\u001b[0m     \u001b[38;5;28;43mobject\u001b[39;49m\u001b[38;5;241;43m.\u001b[39;49m\u001b[38;5;21;43m__getattribute__\u001b[39;49m\u001b[43m(\u001b[49m\u001b[38;5;28;43mself\u001b[39;49m\u001b[43m,\u001b[49m\u001b[43m \u001b[49m\u001b[43mname\u001b[49m\u001b[43m)\u001b[49m\n\u001b[1;32m   5478\u001b[0m     \u001b[38;5;28;01mreturn\u001b[39;00m \u001b[38;5;28mobject\u001b[39m\u001b[38;5;241m.\u001b[39m\u001b[38;5;21m__setattr__\u001b[39m(\u001b[38;5;28mself\u001b[39m, name, value)\n",
      "File \u001b[0;32m~/.local/lib/python3.8/site-packages/pandas/core/series.py:536\u001b[0m, in \u001b[0;36mSeries.name\u001b[0;34m(self)\u001b[0m\n\u001b[1;32m    490\u001b[0m \u001b[38;5;124;03m\"\"\"\u001b[39;00m\n\u001b[1;32m    491\u001b[0m \u001b[38;5;124;03mReturn the name of the Series.\u001b[39;00m\n\u001b[1;32m    492\u001b[0m \n\u001b[0;32m   (...)\u001b[0m\n\u001b[1;32m    534\u001b[0m \u001b[38;5;124;03m'Even Numbers'\u001b[39;00m\n\u001b[1;32m    535\u001b[0m \u001b[38;5;124;03m\"\"\"\u001b[39;00m\n\u001b[0;32m--> 536\u001b[0m \u001b[38;5;28;01mreturn\u001b[39;00m \u001b[38;5;28;43mself\u001b[39;49m\u001b[38;5;241;43m.\u001b[39;49m\u001b[43m_name\u001b[49m\n",
      "File \u001b[0;32m~/.local/lib/python3.8/site-packages/pandas/core/generic.py:5461\u001b[0m, in \u001b[0;36mNDFrame.__getattr__\u001b[0;34m(self, name)\u001b[0m\n\u001b[1;32m   5456\u001b[0m \u001b[38;5;28;01mif\u001b[39;00m (\n\u001b[1;32m   5457\u001b[0m     name \u001b[38;5;129;01min\u001b[39;00m \u001b[38;5;28mself\u001b[39m\u001b[38;5;241m.\u001b[39m_internal_names_set\n\u001b[1;32m   5458\u001b[0m     \u001b[38;5;129;01mor\u001b[39;00m name \u001b[38;5;129;01min\u001b[39;00m \u001b[38;5;28mself\u001b[39m\u001b[38;5;241m.\u001b[39m_metadata\n\u001b[1;32m   5459\u001b[0m     \u001b[38;5;129;01mor\u001b[39;00m name \u001b[38;5;129;01min\u001b[39;00m \u001b[38;5;28mself\u001b[39m\u001b[38;5;241m.\u001b[39m_accessors\n\u001b[1;32m   5460\u001b[0m ):\n\u001b[0;32m-> 5461\u001b[0m     \u001b[38;5;28;01mreturn\u001b[39;00m \u001b[38;5;28;43mobject\u001b[39;49m\u001b[38;5;241;43m.\u001b[39;49m\u001b[38;5;21;43m__getattribute__\u001b[39;49m\u001b[43m(\u001b[49m\u001b[38;5;28;43mself\u001b[39;49m\u001b[43m,\u001b[49m\u001b[43m \u001b[49m\u001b[43mname\u001b[49m\u001b[43m)\u001b[49m\n\u001b[1;32m   5462\u001b[0m \u001b[38;5;28;01melse\u001b[39;00m:\n",
      "\u001b[0;31mAttributeError\u001b[0m: 'Series' object has no attribute '_name'",
      "\nDuring handling of the above exception, another exception occurred:\n",
      "\u001b[0;31mKeyboardInterrupt\u001b[0m                         Traceback (most recent call last)",
      "Input \u001b[0;32mIn [8]\u001b[0m, in \u001b[0;36m<module>\u001b[0;34m\u001b[0m\n\u001b[1;32m     32\u001b[0m         chunk[col_name\u001b[38;5;241m+\u001b[39m\u001b[38;5;124m'\u001b[39m\u001b[38;5;124m_\u001b[39m\u001b[38;5;124m'\u001b[39m\u001b[38;5;241m+\u001b[39m\u001b[38;5;28mstr\u001b[39m(period)] \u001b[38;5;241m=\u001b[39m (chunk[col_name] \u001b[38;5;241m-\u001b[39m feature_mean)\u001b[38;5;241m/\u001b[39mfeature_std\n\u001b[1;32m     33\u001b[0m         chunk[col_name\u001b[38;5;241m+\u001b[39m\u001b[38;5;124m'\u001b[39m\u001b[38;5;124m_\u001b[39m\u001b[38;5;124m'\u001b[39m\u001b[38;5;241m+\u001b[39m\u001b[38;5;28mstr\u001b[39m(period)\u001b[38;5;241m+\u001b[39m\u001b[38;5;124m'\u001b[39m\u001b[38;5;124m_range\u001b[39m\u001b[38;5;124m'\u001b[39m] \u001b[38;5;241m=\u001b[39m (feature_max \u001b[38;5;241m-\u001b[39m feature_min)\u001b[38;5;241m/\u001b[39mfeature_std\n\u001b[0;32m---> 34\u001b[0m         chunk[col_name\u001b[38;5;241m+\u001b[39m\u001b[38;5;124m'\u001b[39m\u001b[38;5;124m_\u001b[39m\u001b[38;5;124m'\u001b[39m\u001b[38;5;241m+\u001b[39m\u001b[38;5;28mstr\u001b[39m(period)\u001b[38;5;241m+\u001b[39m\u001b[38;5;124m'\u001b[39m\u001b[38;5;124m_skew\u001b[39m\u001b[38;5;124m'\u001b[39m] \u001b[38;5;241m=\u001b[39m (feature_mean \u001b[38;5;241m-\u001b[39m (\u001b[43mfeature_max\u001b[49m\u001b[43m \u001b[49m\u001b[38;5;241;43m-\u001b[39;49m\u001b[43m \u001b[49m\u001b[43mfeature_min\u001b[49m)\u001b[38;5;241m/\u001b[39m\u001b[38;5;241m2\u001b[39m)\u001b[38;5;241m/\u001b[39mfeature_std\n\u001b[1;32m     36\u001b[0m chunk\u001b[38;5;241m.\u001b[39mdrop([\u001b[38;5;124m'\u001b[39m\u001b[38;5;124mRSSI_Left\u001b[39m\u001b[38;5;124m'\u001b[39m, \u001b[38;5;124m'\u001b[39m\u001b[38;5;124mRSSI_Right\u001b[39m\u001b[38;5;124m'\u001b[39m, \u001b[38;5;124m'\u001b[39m\u001b[38;5;124mRSSI_diff\u001b[39m\u001b[38;5;124m'\u001b[39m, \u001b[38;5;124m'\u001b[39m\u001b[38;5;124mRSSI_rms\u001b[39m\u001b[38;5;124m'\u001b[39m, \n\u001b[1;32m     37\u001b[0m                  \u001b[38;5;124m'\u001b[39m\u001b[38;5;124mRSSI_Left_diff\u001b[39m\u001b[38;5;124m'\u001b[39m, \u001b[38;5;124m'\u001b[39m\u001b[38;5;124mRSSI_Right_diff\u001b[39m\u001b[38;5;124m'\u001b[39m, \u001b[38;5;124m'\u001b[39m\u001b[38;5;124mRSSI_rms_diff\u001b[39m\u001b[38;5;124m'\u001b[39m, \u001b[38;5;124m'\u001b[39m\u001b[38;5;124mRSSI_diff_diff\u001b[39m\u001b[38;5;124m'\u001b[39m], axis\u001b[38;5;241m=\u001b[39m\u001b[38;5;241m1\u001b[39m, inplace\u001b[38;5;241m=\u001b[39m\u001b[38;5;28;01mTrue\u001b[39;00m)\n\u001b[1;32m     39\u001b[0m chunk[\u001b[38;5;124m'\u001b[39m\u001b[38;5;124mpeople_present\u001b[39m\u001b[38;5;124m'\u001b[39m] \u001b[38;5;241m=\u001b[39m \u001b[38;5;28mint\u001b[39m((chunk[\u001b[38;5;124m'\u001b[39m\u001b[38;5;124mNum_People\u001b[39m\u001b[38;5;124m'\u001b[39m]\u001b[38;5;241m!=\u001b[39m\u001b[38;5;241m0\u001b[39m)\u001b[38;5;241m.\u001b[39many())\n",
      "File \u001b[0;32m~/.local/lib/python3.8/site-packages/pandas/core/ops/common.py:65\u001b[0m, in \u001b[0;36m_unpack_zerodim_and_defer.<locals>.new_method\u001b[0;34m(self, other)\u001b[0m\n\u001b[1;32m     61\u001b[0m             \u001b[38;5;28;01mreturn\u001b[39;00m \u001b[38;5;28mNotImplemented\u001b[39m\n\u001b[1;32m     63\u001b[0m other \u001b[38;5;241m=\u001b[39m item_from_zerodim(other)\n\u001b[0;32m---> 65\u001b[0m \u001b[38;5;28;01mreturn\u001b[39;00m \u001b[43mmethod\u001b[49m\u001b[43m(\u001b[49m\u001b[38;5;28;43mself\u001b[39;49m\u001b[43m,\u001b[49m\u001b[43m \u001b[49m\u001b[43mother\u001b[49m\u001b[43m)\u001b[49m\n",
      "File \u001b[0;32m~/.local/lib/python3.8/site-packages/pandas/core/arraylike.py:97\u001b[0m, in \u001b[0;36mOpsMixin.__sub__\u001b[0;34m(self, other)\u001b[0m\n\u001b[1;32m     95\u001b[0m \u001b[38;5;129m@unpack_zerodim_and_defer\u001b[39m(\u001b[38;5;124m\"\u001b[39m\u001b[38;5;124m__sub__\u001b[39m\u001b[38;5;124m\"\u001b[39m)\n\u001b[1;32m     96\u001b[0m \u001b[38;5;28;01mdef\u001b[39;00m \u001b[38;5;21m__sub__\u001b[39m(\u001b[38;5;28mself\u001b[39m, other):\n\u001b[0;32m---> 97\u001b[0m     \u001b[38;5;28;01mreturn\u001b[39;00m \u001b[38;5;28;43mself\u001b[39;49m\u001b[38;5;241;43m.\u001b[39;49m\u001b[43m_arith_method\u001b[49m\u001b[43m(\u001b[49m\u001b[43mother\u001b[49m\u001b[43m,\u001b[49m\u001b[43m \u001b[49m\u001b[43moperator\u001b[49m\u001b[38;5;241;43m.\u001b[39;49m\u001b[43msub\u001b[49m\u001b[43m)\u001b[49m\n",
      "File \u001b[0;32m~/.local/lib/python3.8/site-packages/pandas/core/series.py:5000\u001b[0m, in \u001b[0;36mSeries._arith_method\u001b[0;34m(self, other, op)\u001b[0m\n\u001b[1;32m   4997\u001b[0m rvalues \u001b[38;5;241m=\u001b[39m extract_array(other, extract_numpy\u001b[38;5;241m=\u001b[39m\u001b[38;5;28;01mTrue\u001b[39;00m)\n\u001b[1;32m   4998\u001b[0m result \u001b[38;5;241m=\u001b[39m ops\u001b[38;5;241m.\u001b[39marithmetic_op(lvalues, rvalues, op)\n\u001b[0;32m-> 5000\u001b[0m \u001b[38;5;28;01mreturn\u001b[39;00m \u001b[38;5;28;43mself\u001b[39;49m\u001b[38;5;241;43m.\u001b[39;49m\u001b[43m_construct_result\u001b[49m\u001b[43m(\u001b[49m\u001b[43mresult\u001b[49m\u001b[43m,\u001b[49m\u001b[43m \u001b[49m\u001b[43mname\u001b[49m\u001b[38;5;241;43m=\u001b[39;49m\u001b[43mres_name\u001b[49m\u001b[43m)\u001b[49m\n",
      "File \u001b[0;32m~/.local/lib/python3.8/site-packages/pandas/core/series.py:2763\u001b[0m, in \u001b[0;36mSeries._construct_result\u001b[0;34m(self, result, name)\u001b[0m\n\u001b[1;32m   2759\u001b[0m     \u001b[38;5;28;01mreturn\u001b[39;00m (res1, res2)\n\u001b[1;32m   2761\u001b[0m \u001b[38;5;66;03m# We do not pass dtype to ensure that the Series constructor\u001b[39;00m\n\u001b[1;32m   2762\u001b[0m \u001b[38;5;66;03m#  does inference in the case where `result` has object-dtype.\u001b[39;00m\n\u001b[0;32m-> 2763\u001b[0m out \u001b[38;5;241m=\u001b[39m \u001b[38;5;28;43mself\u001b[39;49m\u001b[38;5;241;43m.\u001b[39;49m\u001b[43m_constructor\u001b[49m\u001b[43m(\u001b[49m\u001b[43mresult\u001b[49m\u001b[43m,\u001b[49m\u001b[43m \u001b[49m\u001b[43mindex\u001b[49m\u001b[38;5;241;43m=\u001b[39;49m\u001b[38;5;28;43mself\u001b[39;49m\u001b[38;5;241;43m.\u001b[39;49m\u001b[43mindex\u001b[49m\u001b[43m)\u001b[49m\n\u001b[1;32m   2764\u001b[0m out \u001b[38;5;241m=\u001b[39m out\u001b[38;5;241m.\u001b[39m__finalize__(\u001b[38;5;28mself\u001b[39m)\n\u001b[1;32m   2766\u001b[0m \u001b[38;5;66;03m# Set the result's name after __finalize__ is called because __finalize__\u001b[39;00m\n\u001b[1;32m   2767\u001b[0m \u001b[38;5;66;03m#  would set it back to self.name\u001b[39;00m\n",
      "File \u001b[0;32m~/.local/lib/python3.8/site-packages/pandas/core/series.py:369\u001b[0m, in \u001b[0;36mSeries.__init__\u001b[0;34m(self, data, index, dtype, name, copy, fastpath)\u001b[0m\n\u001b[1;32m    366\u001b[0m         data \u001b[38;5;241m=\u001b[39m SingleBlockManager\u001b[38;5;241m.\u001b[39mfrom_array(data, index)\n\u001b[1;32m    368\u001b[0m generic\u001b[38;5;241m.\u001b[39mNDFrame\u001b[38;5;241m.\u001b[39m\u001b[38;5;21m__init__\u001b[39m(\u001b[38;5;28mself\u001b[39m, data)\n\u001b[0;32m--> 369\u001b[0m \u001b[38;5;28mself\u001b[39m\u001b[38;5;241m.\u001b[39mname \u001b[38;5;241m=\u001b[39m name\n\u001b[1;32m    370\u001b[0m \u001b[38;5;28mself\u001b[39m\u001b[38;5;241m.\u001b[39m_set_axis(\u001b[38;5;241m0\u001b[39m, index, fastpath\u001b[38;5;241m=\u001b[39m\u001b[38;5;28;01mTrue\u001b[39;00m)\n",
      "File \u001b[0;32m~/.local/lib/python3.8/site-packages/pandas/core/generic.py:5477\u001b[0m, in \u001b[0;36mNDFrame.__setattr__\u001b[0;34m(self, name, value)\u001b[0m\n\u001b[1;32m   5472\u001b[0m \u001b[38;5;66;03m# first try regular attribute access via __getattribute__, so that\u001b[39;00m\n\u001b[1;32m   5473\u001b[0m \u001b[38;5;66;03m# e.g. ``obj.x`` and ``obj.x = 4`` will always reference/modify\u001b[39;00m\n\u001b[1;32m   5474\u001b[0m \u001b[38;5;66;03m# the same attribute.\u001b[39;00m\n\u001b[1;32m   5476\u001b[0m \u001b[38;5;28;01mtry\u001b[39;00m:\n\u001b[0;32m-> 5477\u001b[0m     \u001b[38;5;28;43mobject\u001b[39;49m\u001b[38;5;241;43m.\u001b[39;49m\u001b[38;5;21;43m__getattribute__\u001b[39;49m\u001b[43m(\u001b[49m\u001b[38;5;28;43mself\u001b[39;49m\u001b[43m,\u001b[49m\u001b[43m \u001b[49m\u001b[43mname\u001b[49m\u001b[43m)\u001b[49m\n\u001b[1;32m   5478\u001b[0m     \u001b[38;5;28;01mreturn\u001b[39;00m \u001b[38;5;28mobject\u001b[39m\u001b[38;5;241m.\u001b[39m\u001b[38;5;21m__setattr__\u001b[39m(\u001b[38;5;28mself\u001b[39m, name, value)\n\u001b[1;32m   5479\u001b[0m \u001b[38;5;28;01mexcept\u001b[39;00m \u001b[38;5;167;01mAttributeError\u001b[39;00m:\n",
      "\u001b[0;31mKeyboardInterrupt\u001b[0m: "
     ]
    }
   ],
   "source": [
    "chunks_df = []\n",
    "S = 360\n",
    "periods=[30, 60, 90, 150, 240, 300]\n",
    "# periods=[25, 75, 125, 100, 175, 200, 225, 275, 300, 325]\n",
    "# periods=[10, 15, 25, 50, 100, 150, 200, 250, 300]\n",
    "\n",
    "for (room, device), room_device_group in tqdm.tqdm(df.groupby(['Room_Num','Device_ID'])):\n",
    "    N = int(len(room_device_group)/S)\n",
    "    \n",
    "    for i in range(N+1):\n",
    "        chunk = room_device_group.iloc[i*S:(i+1)*S].copy()\n",
    "        \n",
    "        # chunk['chunk_id'] = str(room)+'_'+str(device)+'_'+str(i)\n",
    "\n",
    "        chunk['RSSI_diff'] = chunk.RSSI_Left - chunk.RSSI_Right\n",
    "        chunk['RSSI_Left_diff'] = chunk.RSSI_Left.diff()\n",
    "        chunk['RSSI_diff_diff'] = chunk.RSSI_diff.abs().diff()\n",
    "        chunk['RSSI_Right_diff'] = chunk.RSSI_Right.diff()\n",
    "        chunk['RSSI_rms'] = np.sqrt(chunk.RSSI_Left**2 + chunk.RSSI_Right**2)\n",
    "        chunk['RSSI_rms_diff'] = chunk.RSSI_Right.diff()\n",
    "\n",
    "        for col_name in [#'RSSI_Left', 'RSSI_Right', \n",
    "                         'RSSI_diff', 'RSSI_rms', \n",
    "                         'RSSI_Left_diff', 'RSSI_Right_diff', 'RSSI_rms_diff', 'RSSI_diff_diff']:\n",
    "           \n",
    "            for period in periods:\n",
    "                feature_std = (chunk[col_name].rolling(period, min_periods=0).std()).fillna(0.0000000001)\n",
    "                feature_mean = chunk[col_name].rolling(period, min_periods=0).mean()\n",
    "                feature_max = chunk[col_name].rolling(period, min_periods=0).max()\n",
    "                feature_min = chunk[col_name].rolling(period, min_periods=0).min()\n",
    "                \n",
    "                chunk[col_name+'_'+str(period)] = (chunk[col_name] - feature_mean)/feature_std\n",
    "                chunk[col_name+'_'+str(period)+'_range'] = (feature_max - feature_min)/feature_std\n",
    "                chunk[col_name+'_'+str(period)+'_skew'] = (feature_mean - (feature_max - feature_min)/2)/feature_std\n",
    "                \n",
    "        chunk.drop(['RSSI_Left', 'RSSI_Right', 'RSSI_diff', 'RSSI_rms', \n",
    "                         'RSSI_Left_diff', 'RSSI_Right_diff', 'RSSI_rms_diff', 'RSSI_diff_diff'], axis=1, inplace=True)\n",
    "        \n",
    "        chunk['people_present'] = int((chunk['Num_People']!=0).any())\n",
    "        chunk['chunk_id'] = str(room)+'_'+str(device)+'_'+str(i)\n",
    "#         data = {}\n",
    "#         for col_name in chunk.columns[chunk.columns.str.startswith('RSSI')]:\n",
    "#                 data[col_name+'_max'] = chunk[col_name].max()\n",
    "#                 data[col_name+'_min'] = chunk[col_name].min()\n",
    "#                 data['people_present'] = int((chunk['Num_People']!=0).any())\n",
    "#                 data['chunk_id'] = str(room)+'_'+str(device)+'_'+str(i)\n",
    "#         chunks_df.append(data)\n",
    "        chunks_df.append(chunk)\n",
    "        \n",
    "\n",
    "chunks_df = pd.concat(chunks_df)\n",
    "# chunks_df = pd.DataFrame(chunks_df)"
   ]
  },
  {
   "cell_type": "code",
   "execution_count": null,
   "id": "5c534a3c-7358-4479-ae9b-e0fa3124d534",
   "metadata": {},
   "outputs": [],
   "source": [
    "chunks_df.shape"
   ]
  },
  {
   "cell_type": "code",
   "execution_count": null,
   "id": "6c108dfe-665f-4098-b859-5a83f59cae9b",
   "metadata": {},
   "outputs": [],
   "source": [
    "chunks_df.drop(['Time',\n",
    "                'Room_Num',\n",
    "                'Device_ID'], axis=1, inplace=True)"
   ]
  },
  {
   "cell_type": "code",
   "execution_count": 11,
   "id": "4e0fb34b-5cc2-4048-a235-9972d09ae613",
   "metadata": {},
   "outputs": [],
   "source": [
    "# Remove the original data to save memory\n",
    "del df"
   ]
  },
  {
   "cell_type": "code",
   "execution_count": 12,
   "id": "34a7e8d8-a086-4d94-969c-bdf3633ca57c",
   "metadata": {},
   "outputs": [],
   "source": [
    "feature_cols = chunks_df.columns[chunks_df.columns.str.startswith('RSSI')]\n",
    "# Remove the original features\n",
    "# feature_cols = feature_cols[~feature_cols.isin(['RSSI_Left', 'RSSI_Right', 'RSSI_diff', 'RSSI_rms', 'RSSI_Left_diff', 'RSSI_Right_diff', 'RSSI_rms_diff', 'RSSI_diff_diff'])]"
   ]
  },
  {
   "cell_type": "code",
   "execution_count": 13,
   "id": "bc2118eb-ba56-4f36-8df2-1909f09cc506",
   "metadata": {},
   "outputs": [],
   "source": [
    "# chunks_df = chunks_df[['chunk_id']+feature_cols.tolist()+['people_present']]"
   ]
  },
  {
   "cell_type": "code",
   "execution_count": 14,
   "id": "ba9a9022-441c-4841-83a0-29f8e178a0e6",
   "metadata": {},
   "outputs": [],
   "source": [
    "chunks_df.reset_index(drop=True, inplace=True)"
   ]
  },
  {
   "cell_type": "code",
   "execution_count": 15,
   "id": "590339a9-68a7-426b-8ba9-27f8146fb92a",
   "metadata": {},
   "outputs": [
    {
     "data": {
      "text/plain": [
       "0.7533582119427515"
      ]
     },
     "execution_count": 15,
     "metadata": {},
     "output_type": "execute_result"
    }
   ],
   "source": [
    "chunks_df.people_present.sum()/chunks_df.shape[0]"
   ]
  },
  {
   "cell_type": "markdown",
   "id": "e614555b-a835-46ec-be3b-614023ac37f0",
   "metadata": {},
   "source": [
    "Slightly more skewed towards people present"
   ]
  },
  {
   "cell_type": "code",
   "execution_count": 16,
   "id": "1c756b67-b898-4630-af78-3d6809dc5976",
   "metadata": {},
   "outputs": [],
   "source": [
    "chunks_df.replace([np.inf, -np.inf], 0, inplace=True)"
   ]
  },
  {
   "cell_type": "code",
   "execution_count": 18,
   "id": "5695d77d-ae0c-48a4-bc9a-96f8ee757f53",
   "metadata": {},
   "outputs": [],
   "source": [
    "splitter = GroupShuffleSplit(test_size=.5, n_splits=2, random_state = 42)\n",
    "split = splitter.split(chunks_df, groups=chunks_df['chunk_id'])\n",
    "train_idx, eval_idx = next(split)\n",
    "\n",
    "x_train, y_train = chunks_df.loc[train_idx, feature_cols], chunks_df.loc[train_idx, 'people_present']\n",
    "\n",
    "split = splitter.split(chunks_df.iloc[eval_idx], groups=chunks_df.loc[eval_idx, 'chunk_id'])\n",
    "val_idx, test_idx = next(split)\n",
    "\n",
    "x_val, y_val = chunks_df.loc[val_idx, feature_cols], chunks_df.loc[val_idx, 'people_present']\n",
    "\n",
    "x_test, y_test = chunks_df.loc[test_idx, feature_cols], chunks_df.loc[test_idx, 'people_present']"
   ]
  },
  {
   "cell_type": "code",
   "execution_count": 19,
   "id": "3a5dee30-0aa2-4dae-987c-8499116ef57d",
   "metadata": {},
   "outputs": [
    {
     "data": {
      "text/plain": [
       "(1371508, 687672, 688562)"
      ]
     },
     "execution_count": 19,
     "metadata": {},
     "output_type": "execute_result"
    }
   ],
   "source": [
    "len(x_train), len(x_val), len(x_test)"
   ]
  },
  {
   "cell_type": "code",
   "execution_count": 21,
   "id": "58b7b764-e464-4a26-b082-90de8105757c",
   "metadata": {},
   "outputs": [],
   "source": [
    "SEED = 42"
   ]
  },
  {
   "cell_type": "code",
   "execution_count": 22,
   "id": "857aa261-2914-4f01-a5d6-c1c76976a7a7",
   "metadata": {},
   "outputs": [
    {
     "data": {
      "text/plain": [
       "0"
      ]
     },
     "execution_count": 22,
     "metadata": {},
     "output_type": "execute_result"
    }
   ],
   "source": [
    "gc.collect()"
   ]
  },
  {
   "cell_type": "code",
   "execution_count": 23,
   "id": "deb8ed5d-36c1-47de-ae61-bbd80c22da22",
   "metadata": {},
   "outputs": [],
   "source": [
    "splitter = LeavePGroupsOut(n_groups=chunks_df['chunk_id'].nunique()//2)\n",
    "split = splitter.split(chunks_df, groups=chunks_df['chunk_id'])\n",
    "train_idx, eval_idx = next(split)\n"
   ]
  },
  {
   "cell_type": "code",
   "execution_count": null,
   "id": "e065b961-77a9-4764-9137-7ad96a8c7c38",
   "metadata": {
    "tags": []
   },
   "outputs": [
    {
     "name": "stdout",
     "output_type": "stream",
     "text": [
      "  0%|                                                                                                                                                                      | 0/100 [00:00<?, ?trial/s, best loss=?]"
     ]
    }
   ],
   "source": [
    "\n",
    "def score(params):\n",
    "    # print(\"Training with params: \")\n",
    "    # print(params)\n",
    "    train_idx, eval_idx = next(split)\n",
    "    x_train, y_train, id_train = chunks_df.loc[train_idx, feature_cols], chunks_df.loc[train_idx, 'people_present'], chunks_df.loc[train_idx, 'chunk_id']\n",
    "    x_val, y_val, id_val = chunks_df.loc[eval_idx, feature_cols], chunks_df.loc[eval_idx, 'people_present'], chunks_df.loc[eval_idx, 'chunk_id']\n",
    "\n",
    "    model = xgb.XGBClassifier(**params)\n",
    "    model = model.fit(x_train, y_train)\n",
    "    predictions = model.predict_proba(x_val)\n",
    "    score = roc_auc_score(y_val,predictions[:,1])\n",
    "    # TODO: Add the importance for the selected features\n",
    "    \n",
    "    print(\"Training with params: \")\n",
    "    print(model.get_params())\n",
    "    print(\"\\tScore {0}\\n\\n\".format(score))\n",
    "    \n",
    "    \n",
    "    del model\n",
    "    gc.collect()\n",
    "    \n",
    "    # The score function should return the loss (1-score)\n",
    "    # since the optimize function looks for the minimum\n",
    "    \n",
    "    loss = 1 - score\n",
    "    return {'loss': loss, 'status': STATUS_OK}\n",
    "\n",
    "\n",
    "def optimize(\n",
    "             #trials, \n",
    "             random_state=SEED):\n",
    "    \"\"\"\n",
    "    This is the optimization function that given a space (space here) of \n",
    "    hyperparameters and a scoring function (score here), finds the best hyperparameters.\n",
    "    \"\"\"\n",
    "    # To learn more about XGBoost parameters, head to this page: \n",
    "    # https://github.com/dmlc/xgboost/blob/master/doc/parameter.md\n",
    "    space = {\n",
    "        'n_estimators': hp.uniformint('n_estimators', 100, 225),\n",
    "        'eta': hp.quniform('eta', 0.025, 0.5, 0.025),        \n",
    "        'max_depth':  hp.uniformint('max_depth', 10, 30),\n",
    "        'min_child_weight': hp.quniform('min_child_weight', 1, 6, 1),\n",
    "        'gamma': hp.quniform('gamma', 0.5, 1, 0.05),\n",
    "        'grow_policy':'lossguide',\n",
    "        'subsample': hp.quniform('subsample', 0.5, 1, 0.05),\n",
    "        'colsample_bytree': hp.quniform('colsample_bytree', 0.5, 1, 0.05),\n",
    "        'colsample_bylevel': hp.quniform('colsample_bylevel', 0.5, 1, 0.05),\n",
    "        'colsample_bynode': hp.quniform('colsample_bynode', 0.5, 1, 0.05),\n",
    "        'lambda':hp.quniform('lambda', 0.1, 1, 0.1),\n",
    "        # 'lambda':0,\n",
    "        'alpha':hp.quniform('alpha', 0.1, 1, 0.1),\n",
    "        'eval_metric': 'auc',\n",
    "        'objective': 'binary:logistic',\n",
    "        'single_precision_histogram': True,\n",
    "        # 'num_parallel_tree': hp.uniformint('num_parallel_tree', 1, 30),\n",
    "        # 'num_parallel_tree': 1,\n",
    "        # Increase this number if you have more cores. Otherwise, remove it and it will default \n",
    "        # to the maxium number. \n",
    "        # 'nthread': 4,\n",
    "        \n",
    "        'booster': 'gbtree',\n",
    "        'tree_method': 'hist',\n",
    "        'max_leaves': 5000,\n",
    "        'missing': np.nan,\n",
    "        'seed': random_state\n",
    "    }\n",
    "    # Use the fmin function from Hyperopt to find the best hyperparameters\n",
    "    best = fmin(score, space, algo=tpe.suggest, \n",
    "                # trials=trials, \n",
    "                max_evals=100)\n",
    "    return best\n",
    "\n",
    "#-------------------------------------------------#\n",
    "\n",
    "#-------------------------------------------------#\n",
    "\n",
    "# Run the optimization\n",
    "\n",
    "# Trials object where the history of search will be stored\n",
    "# For the time being, there is a bug with the following version of hyperopt.\n",
    "# You can read the error messag on the log file.\n",
    "# For the curious, you can read more about it here: https://github.com/hyperopt/hyperopt/issues/234\n",
    "# => So I am commenting it.\n",
    "# trials = Trials()\n",
    "\n",
    "best_hyperparams = optimize(\n",
    "                            #trials\n",
    "                            )\n",
    "print(\"The best hyperparameters are: \", \"\\n\")\n",
    "print(best_hyperparams)"
   ]
  },
  {
   "cell_type": "code",
   "execution_count": null,
   "id": "15b53a59-f75b-417a-b964-1b5b57c00d50",
   "metadata": {
    "tags": []
   },
   "outputs": [],
   "source": [
    "feature_cols.tolist()"
   ]
  },
  {
   "cell_type": "code",
   "execution_count": 24,
   "id": "e3afc0d4-ba0a-4da9-9c1c-2824dd9b3f3f",
   "metadata": {},
   "outputs": [],
   "source": [
    "params = {'objective': 'binary:logistic', 'use_label_encoder': False, 'base_score': 0.5, 'booster': 'gbtree', 'callbacks': None, \n",
    "          'colsample_bylevel': 0.9, 'colsample_bynode': 0.7, 'colsample_bytree': 0.8, 'early_stopping_rounds': None, \n",
    "          'enable_categorical': False, 'eval_metric': 'auc', 'gamma': 0.7, 'gpu_id': -1, 'grow_policy': 'lossguide', \n",
    "          'importance_type': None, 'interaction_constraints': '', 'learning_rate': 0.075, 'max_bin': 256, 'max_cat_to_onehot': 4, \n",
    "          'max_delta_step': 0, 'max_depth': 30, 'max_leaves': 5000, 'min_child_weight': 4.0, 'missing': np.nan, 'monotone_constraints': '()', \n",
    "          'n_estimators': 188, 'n_jobs': 0, 'num_parallel_tree': 1, 'predictor': 'auto', 'random_state': 42, 'reg_alpha': 0.5, \n",
    "          'reg_lambda': 0.5, 'sampling_method': 'uniform', 'scale_pos_weight': 1, 'subsample': 0.8, 'tree_method': \n",
    "          'hist', 'validate_parameters': 1, 'verbosity': None, 'alpha': 0.5, 'eta': 0.075, 'lambda': 0.5, 'seed': 42, \n",
    "          'single_precision_histogram': True}"
   ]
  },
  {
   "cell_type": "code",
   "execution_count": 24,
   "id": "62518822-9379-43c5-9951-109e45cef8c6",
   "metadata": {},
   "outputs": [],
   "source": [
    "params = {'objective': 'binary:logistic', 'use_label_encoder': False, 'base_score': 0.5, 'booster': 'gbtree', 'callbacks': None, \n",
    "          'colsample_bylevel': 0.55, 'colsample_bynode': 0.6, 'colsample_bytree': 0.6, 'early_stopping_rounds': None, \n",
    "          'enable_categorical': False, 'eval_metric': 'auc', 'gamma': 0.7, 'gpu_id': -1, 'grow_policy': 'lossguide', \n",
    "          'importance_type': None, 'interaction_constraints': '', 'learning_rate': 0.075, 'max_bin': 256, 'max_cat_to_onehot': 4, \n",
    "          'max_delta_step': 0, 'max_depth': 29, 'max_leaves': 5000, 'min_child_weight': 5.0, 'missing': np.nan, 'monotone_constraints': '()',\n",
    "          'n_estimators': 178, 'n_jobs': 0, 'num_parallel_tree': 1, 'predictor': 'auto', 'random_state': 42, 'reg_alpha': 0.1,\n",
    "          'reg_lambda': 0.300000012, 'sampling_method': 'uniform', 'scale_pos_weight': 1, 'subsample': 0.85,\n",
    "          'tree_method': 'hist', 'validate_parameters': 1, 'verbosity': None, 'alpha': 0.1, 'eta': 0.075, 'lambda': 0.3, \n",
    "          'seed': 42, 'single_precision_histogram': True}"
   ]
  },
  {
   "cell_type": "code",
   "execution_count": 45,
   "id": "2ea6dbf2-70be-4aca-8669-888d0a2ab265",
   "metadata": {},
   "outputs": [],
   "source": [
    "# best_hyperparams['n_estimators'] = int(best_hyperparams['n_estimators'])\n",
    "\n",
    "# best_hyperparams['num_parallel_tree'] = int(best_hyperparams['num_parallel_tree'])\n",
    "\n",
    "# best_hyperparams['max_depth'] = int(best_hyperparams['max_depth'])"
   ]
  },
  {
   "cell_type": "code",
   "execution_count": 25,
   "id": "381f4e7f-6579-4490-913b-0599a187b696",
   "metadata": {},
   "outputs": [],
   "source": [
    "\n",
    "model = xgb.XGBClassifier(**params)"
   ]
  },
  {
   "cell_type": "code",
   "execution_count": 26,
   "id": "c23e0d47-51e9-4480-aa77-dfb9d2cb0205",
   "metadata": {},
   "outputs": [
    {
     "data": {
      "text/plain": [
       "XGBClassifier(alpha=0.1, base_score=0.5, booster='gbtree', callbacks=None,\n",
       "              colsample_bylevel=0.55, colsample_bynode=0.6,\n",
       "              colsample_bytree=0.6, early_stopping_rounds=None,\n",
       "              enable_categorical=False, eta=0.075, eval_metric='auc', gamma=0.7,\n",
       "              gpu_id=-1, grow_policy='lossguide', importance_type=None,\n",
       "              interaction_constraints='', lambda=0.3, learning_rate=0.075,\n",
       "              max_bin=256, max_cat_to_onehot=4, max_delta_step=0, max_depth=29,\n",
       "              max_leaves=5000, min_child_weight=5.0, missing=nan,\n",
       "              monotone_constraints='()', n_estimators=178, n_jobs=0,\n",
       "              num_parallel_tree=1, predictor='auto', ...)"
      ]
     },
     "execution_count": 26,
     "metadata": {},
     "output_type": "execute_result"
    }
   ],
   "source": [
    "model.fit(x_train, y_train)"
   ]
  },
  {
   "cell_type": "code",
   "execution_count": 27,
   "id": "e7dc44b2-7952-4db5-9670-d4064bc40843",
   "metadata": {},
   "outputs": [],
   "source": [
    "val_pred = model.predict_proba(x_val)"
   ]
  },
  {
   "cell_type": "code",
   "execution_count": 28,
   "id": "a331545c-a89e-4af7-8953-283e0145ec99",
   "metadata": {},
   "outputs": [
    {
     "data": {
      "text/plain": [
       "0.8929371026061663"
      ]
     },
     "execution_count": 28,
     "metadata": {},
     "output_type": "execute_result"
    }
   ],
   "source": [
    "roc_auc_score(y_val,val_pred[:,1])"
   ]
  },
  {
   "cell_type": "code",
   "execution_count": 29,
   "id": "e8113f1e-4d26-4c0c-92bd-0387520bf0ba",
   "metadata": {},
   "outputs": [],
   "source": [
    "test_pred = model.predict_proba(x_test)"
   ]
  },
  {
   "cell_type": "code",
   "execution_count": 30,
   "id": "012ff9cd-34ca-4d26-b543-3dcb5743a9a5",
   "metadata": {},
   "outputs": [
    {
     "data": {
      "text/plain": [
       "0.8895448115506173"
      ]
     },
     "execution_count": 30,
     "metadata": {},
     "output_type": "execute_result"
    }
   ],
   "source": [
    "roc_auc_score(y_test,test_pred[:,1])"
   ]
  },
  {
   "cell_type": "code",
   "execution_count": 32,
   "id": "6c599f8a-36c6-47b1-87ba-122b67c77f84",
   "metadata": {},
   "outputs": [],
   "source": [
    "precision, recall, thresholds = precision_recall_curve(y_test,test_pred[:,1])"
   ]
  },
  {
   "cell_type": "code",
   "execution_count": 33,
   "id": "fb2a305a-b849-4b3e-9311-73677540da5b",
   "metadata": {},
   "outputs": [],
   "source": [
    "# convert to f score\n",
    "fscore = (2 * precision * recall) / (precision + recall)\n",
    "# locate the index of the largest f score\n",
    "ix = np.argmax(fscore)"
   ]
  },
  {
   "cell_type": "code",
   "execution_count": 34,
   "id": "bda085c8-b1ed-460e-bc90-6499803753d6",
   "metadata": {},
   "outputs": [
    {
     "data": {
      "text/plain": [
       "(0.9315272317507552, 0.21203877)"
      ]
     },
     "execution_count": 34,
     "metadata": {},
     "output_type": "execute_result"
    }
   ],
   "source": [
    "fscore[ix], thresholds[ix]"
   ]
  },
  {
   "cell_type": "code",
   "execution_count": 35,
   "id": "a91690dc-5e56-43b7-b348-51d0e0be20bb",
   "metadata": {},
   "outputs": [],
   "source": [
    "fpr, tpr, thresholds = roc_curve(y_test,test_pred[:,1])"
   ]
  },
  {
   "cell_type": "code",
   "execution_count": 36,
   "id": "f4741a01-4095-4ee9-a7d2-7ca53e305cb0",
   "metadata": {},
   "outputs": [],
   "source": [
    "tnr = 1-fpr"
   ]
  },
  {
   "cell_type": "code",
   "execution_count": 37,
   "id": "e98407c8-2f19-4275-ae2e-de6f0be3b011",
   "metadata": {},
   "outputs": [
    {
     "data": {
      "text/plain": [
       "0.8592636"
      ]
     },
     "execution_count": 37,
     "metadata": {},
     "output_type": "execute_result"
    }
   ],
   "source": [
    "thresholds[(tpr+tnr).argmax()]"
   ]
  },
  {
   "cell_type": "code",
   "execution_count": 38,
   "id": "d23b1e31-a8cc-4d02-b896-b8b7ffa1eca2",
   "metadata": {},
   "outputs": [
    {
     "data": {
      "text/plain": [
       "0.9144361727774696"
      ]
     },
     "execution_count": 38,
     "metadata": {},
     "output_type": "execute_result"
    }
   ],
   "source": [
    "(test_pred[:,1]>0.21).mean()"
   ]
  },
  {
   "cell_type": "code",
   "execution_count": 39,
   "id": "472b756c-c312-40e8-9892-811d7b312537",
   "metadata": {},
   "outputs": [
    {
     "data": {
      "text/plain": [
       "0.8152875122356448"
      ]
     },
     "execution_count": 39,
     "metadata": {},
     "output_type": "execute_result"
    }
   ],
   "source": [
    "y_test.mean()"
   ]
  },
  {
   "cell_type": "code",
   "execution_count": 40,
   "id": "b009ce76-200e-4e6b-be3e-f32b7b62b490",
   "metadata": {},
   "outputs": [],
   "source": [
    "feature_importance = model.feature_importances_"
   ]
  },
  {
   "cell_type": "code",
   "execution_count": 41,
   "id": "053f8929-cb1a-46ce-b9aa-f1f74d18ec03",
   "metadata": {},
   "outputs": [
    {
     "data": {
      "text/plain": [
       "(array([16., 28., 27., 11., 16.,  2.,  4.,  2.,  0.,  2.]),\n",
       " array([0.00401397, 0.00591831, 0.00782264, 0.00972698, 0.01163131,\n",
       "        0.01353565, 0.01543998, 0.01734432, 0.01924866, 0.02115299,\n",
       "        0.02305732], dtype=float32),\n",
       " <BarContainer object of 10 artists>)"
      ]
     },
     "execution_count": 41,
     "metadata": {},
     "output_type": "execute_result"
    },
    {
     "data": {
      "image/png": "[encoded data removed]",
      "text/plain": [
       "<Figure size 432x288 with 1 Axes>"
      ]
     },
     "metadata": {
      "needs_background": "light"
     },
     "output_type": "display_data"
    }
   ],
   "source": [
    "plt.hist(feature_importance)"
   ]
  },
  {
   "cell_type": "code",
   "execution_count": 42,
   "id": "c1d71200-8269-4d55-943a-e6ff24d0b983",
   "metadata": {},
   "outputs": [],
   "source": [
    "selected_cols = feature_cols[feature_importance.argsort()[::-1]][:225]"
   ]
  },
  {
   "cell_type": "code",
   "execution_count": 43,
   "id": "2270df12-1b98-4fd5-a403-dc8708aa9f2c",
   "metadata": {},
   "outputs": [],
   "source": [
    "selected_cols = feature_cols[feature_importance>0]"
   ]
  },
  {
   "cell_type": "code",
   "execution_count": 44,
   "id": "15cb6e06-4d03-4af4-94e6-77f76bb67c4f",
   "metadata": {},
   "outputs": [
    {
     "data": {
      "text/plain": [
       "<AxesSubplot:title={'center':'Feature importance'}, xlabel='F score', ylabel='Features'>"
      ]
     },
     "execution_count": 44,
     "metadata": {},
     "output_type": "execute_result"
    },
    {
     "data": {
      "image/png": "[encoded data removed]",
      "text/plain": [
       "<Figure size 360x1080 with 1 Axes>"
      ]
     },
     "metadata": {
      "needs_background": "light"
     },
     "output_type": "display_data"
    }
   ],
   "source": [
    "fig, ax = plt.subplots(1)\n",
    "\n",
    "fig.set_size_inches(5,15)\n",
    "\n",
    "# ax = plt.figure(figsize=(10,5))\n",
    "\n",
    "xgb.plot_importance(model, \n",
    "                    # importance_type='gain',\n",
    "                    importance_type='weight', \n",
    "                    grid=False, \n",
    "                    height=1,\n",
    "                    ax=ax)"
   ]
  },
  {
   "cell_type": "code",
   "execution_count": 45,
   "id": "3db956eb-c656-43e5-a9f5-1f0bba6ecbe5",
   "metadata": {},
   "outputs": [
    {
     "data": {
      "text/plain": [
       "7682"
      ]
     },
     "execution_count": 45,
     "metadata": {},
     "output_type": "execute_result"
    }
   ],
   "source": [
    "chunks_df.chunk_id.nunique()"
   ]
  },
  {
   "cell_type": "code",
   "execution_count": 61,
   "id": "725b578e-003f-4937-a4a8-bf6a0132c7b2",
   "metadata": {},
   "outputs": [],
   "source": [
    "splitter = LeavePGroupsOut(n_groups=1600)\n",
    "split = splitter.split(chunks_df, groups=chunks_df['chunk_id'])\n",
    "train_idx, eval_idx = next(split)\n",
    "\n",
    "x_train, y_train, id_train = chunks_df.loc[train_idx, feature_cols], chunks_df.loc[train_idx, 'people_present'], chunks_df.loc[train_idx, 'chunk_id']\n",
    "\n",
    "\n",
    "x_val, y_val, id_val = chunks_df.loc[eval_idx, feature_cols], chunks_df.loc[eval_idx, 'people_present'], chunks_df.loc[eval_idx, 'chunk_id']\n"
   ]
  },
  {
   "cell_type": "code",
   "execution_count": null,
   "id": "4a20dd91-1da0-4c3b-be39-a87cf08b7d61",
   "metadata": {},
   "outputs": [],
   "source": [
    "model = xgb.XGBClassifier(**params)\n",
    "\n",
    "model.fit(x_train, y_train)\n",
    "\n",
    "val_pred = model.predict_proba(x_val)"
   ]
  },
  {
   "cell_type": "code",
   "execution_count": null,
   "id": "104bef3f-29a7-4bfd-a5c4-dfdf5c453d08",
   "metadata": {},
   "outputs": [],
   "source": [
    "roc_auc_score(y_val,val_pred[:,1])"
   ]
  },
  {
   "cell_type": "code",
   "execution_count": 56,
   "id": "af24c300-ada3-47c8-8233-f306bc02484f",
   "metadata": {},
   "outputs": [
    {
     "data": {
      "text/plain": [
       "0    1_410_0\n",
       "1    1_410_0\n",
       "2    1_410_0\n",
       "3    1_410_0\n",
       "4    1_410_0\n",
       "Name: chunk_id, dtype: object"
      ]
     },
     "execution_count": 56,
     "metadata": {},
     "output_type": "execute_result"
    }
   ],
   "source": [
    "chunks_df.chunk_id.head()"
   ]
  },
  {
   "cell_type": "code",
   "execution_count": 25,
   "id": "1443a8d0-0d94-4943-a2d3-8484b6687db4",
   "metadata": {},
   "outputs": [],
   "source": [
    "\n",
    "model = xgb.XGBClassifier(**params)"
   ]
  },
  {
   "cell_type": "code",
   "execution_count": 26,
   "id": "60744577-0a86-4e31-b4e4-1bcf57f851d6",
   "metadata": {},
   "outputs": [
    {
     "data": {
      "text/plain": [
       "XGBClassifier(alpha=0.1, base_score=0.5, booster='gbtree', callbacks=None,\n",
       "              colsample_bylevel=0.55, colsample_bynode=0.6,\n",
       "              colsample_bytree=0.6, early_stopping_rounds=None,\n",
       "              enable_categorical=False, eta=0.075, eval_metric='auc', gamma=0.7,\n",
       "              gpu_id=-1, grow_policy='lossguide', importance_type=None,\n",
       "              interaction_constraints='', lambda=0.3, learning_rate=0.075,\n",
       "              max_bin=256, max_cat_to_onehot=4, max_delta_step=0, max_depth=29,\n",
       "              max_leaves=5000, min_child_weight=5.0, missing=nan,\n",
       "              monotone_constraints='()', n_estimators=178, n_jobs=0,\n",
       "              num_parallel_tree=1, predictor='auto', ...)"
      ]
     },
     "execution_count": 26,
     "metadata": {},
     "output_type": "execute_result"
    }
   ],
   "source": [
    "model.fit(x_train, y_train)"
   ]
  },
  {
   "cell_type": "code",
   "execution_count": 27,
   "id": "46333dfc-7cc9-4f1b-a884-eeee674dfb9e",
   "metadata": {},
   "outputs": [],
   "source": [
    "val_pred = model.predict_proba(x_val)"
   ]
  },
  {
   "cell_type": "code",
   "execution_count": 28,
   "id": "910773d2-073a-4029-8014-f3309edbd769",
   "metadata": {},
   "outputs": [
    {
     "data": {
      "text/plain": [
       "0.8929371026061663"
      ]
     },
     "execution_count": 28,
     "metadata": {},
     "output_type": "execute_result"
    }
   ],
   "source": [
    "roc_auc_score(y_val,val_pred[:,1])"
   ]
  },
  {
   "cell_type": "code",
   "execution_count": 60,
   "id": "d9eeb6d0-4461-4619-9c2b-e07788d9f53c",
   "metadata": {},
   "outputs": [
    {
     "data": {
      "text/plain": [
       "379           1_410_1\n",
       "383           1_410_1\n",
       "390           1_410_1\n",
       "391           1_410_1\n",
       "392           1_410_1\n",
       "              ...    \n",
       "1359977     3_80218_2\n",
       "1365042    3_80218_17\n",
       "1365044    3_80218_17\n",
       "1365046    3_80218_17\n",
       "1365048    3_80218_17\n",
       "Name: chunk_id, Length: 130148, dtype: object"
      ]
     },
     "execution_count": 60,
     "metadata": {},
     "output_type": "execute_result"
    }
   ],
   "source": [
    "id_val[(y_val - val_pred[:,1])>0.5]"
   ]
  },
  {
   "cell_type": "code",
   "execution_count": 49,
   "id": "fa67a466-4e33-4af6-b5b4-a694b67945f7",
   "metadata": {},
   "outputs": [],
   "source": [
    "model.save_model('models/tree_booster3.bin')"
   ]
  },
  {
   "cell_type": "code",
   "execution_count": null,
   "id": "2e353b67-c528-4169-93d2-5ea642c47088",
   "metadata": {},
   "outputs": [],
   "source": []
  },
  {
   "cell_type": "code",
   "execution_count": 9,
   "id": "6a7d9059-2f4b-436a-96d7-c3e0ab19aad0",
   "metadata": {},
   "outputs": [
    {
     "ename": "NameError",
     "evalue": "name 'xgb' is not defined",
     "output_type": "error",
     "traceback": [
      "\u001b[0;31m---------------------------------------------------------------------------\u001b[0m",
      "\u001b[0;31mNameError\u001b[0m                                 Traceback (most recent call last)",
      "Input \u001b[0;32mIn [9]\u001b[0m, in \u001b[0;36m<module>\u001b[0;34m\u001b[0m\n\u001b[0;32m----> 1\u001b[0m load_model \u001b[38;5;241m=\u001b[39m \u001b[43mxgb\u001b[49m\u001b[38;5;241m.\u001b[39mXGBClassifier()\n",
      "\u001b[0;31mNameError\u001b[0m: name 'xgb' is not defined"
     ]
    }
   ],
   "source": [
    "load_model = xgb.XGBClassifier()"
   ]
  },
  {
   "cell_type": "code",
   "execution_count": 136,
   "id": "bbcff00f-ab71-4a74-b5fa-d0faeadadc74",
   "metadata": {},
   "outputs": [],
   "source": [
    "load_model.load_model('submission/tree_booster2.bin')"
   ]
  },
  {
   "cell_type": "code",
   "execution_count": 137,
   "id": "32889fcb-11ea-4a96-b6c6-d34b3cd361a1",
   "metadata": {},
   "outputs": [
    {
     "data": {
      "text/plain": [
       "324"
      ]
     },
     "execution_count": 137,
     "metadata": {},
     "output_type": "execute_result"
    }
   ],
   "source": [
    "load_model.n_features_in_"
   ]
  },
  {
   "cell_type": "code",
   "execution_count": null,
   "id": "8aaf23e6-a525-4093-a456-009cb4e5f240",
   "metadata": {},
   "outputs": [],
   "source": []
  }
 ],
 "metadata": {
  "kernelspec": {
   "display_name": "Python 3 (ipykernel)",
   "language": "python",
   "name": "python3"
  },
  "language_info": {
   "codemirror_mode": {
    "name": "ipython",
    "version": 3
   },
   "file_extension": ".py",
   "mimetype": "text/x-python",
   "name": "python",
   "nbconvert_exporter": "python",
   "pygments_lexer": "ipython3",
   "version": "3.8.12"
  }
 },
 "nbformat": 4,
 "nbformat_minor": 5
}
